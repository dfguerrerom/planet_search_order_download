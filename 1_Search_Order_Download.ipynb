{
 "cells": [
  {
   "cell_type": "code",
   "execution_count": 1,
   "metadata": {},
   "outputs": [],
   "source": [
    "from scripts.functions import *"
   ]
  },
  {
   "cell_type": "code",
   "execution_count": 2,
   "metadata": {},
   "outputs": [],
   "source": [
    "from parameters import *"
   ]
  },
  {
   "cell_type": "code",
   "execution_count": 41,
   "metadata": {},
   "outputs": [],
   "source": [
    "import glob\n",
    "import multiprocessing\n",
    "from datetime import datetime\n",
    "import itables.interactive"
   ]
  },
  {
   "cell_type": "code",
   "execution_count": 80,
   "metadata": {},
   "outputs": [],
   "source": [
    "def get_existing_orders(client, pages=None):\n",
    "    # Search all the requested orders per page\n",
    "    # Fixed api.models NEXT_KEY parameter from \"_next\" to \"next\"\n",
    "\n",
    "    ordered_orders = client.get_orders()\n",
    "    ordered_orders.NEXT_KEY = \"next\"\n",
    "    order_pages=[]\n",
    "\n",
    "    # We can limit the search to certain number of pages\n",
    "    # if we leave as none, will search over all of them\n",
    "    limit_to_x_pages = pages\n",
    "    for page in ordered_orders.iter(limit_to_x_pages):\n",
    "        page.NEXT_KEY = \"next\"\n",
    "        order_pages.append(page.get())\n",
    "\n",
    "    current_server_orders = [order for page in order_pages for order in page['orders']]\n",
    "    \n",
    "    return current_server_orders\n",
    "\n",
    "\n",
    "\n",
    "def get_orders_status(client, pages=None):\n",
    "    current_server_orders = get_existing_orders(client, pages)\n",
    "    progress_df = pd.DataFrame([(f['created_on'], \n",
    "                                 f['last_message'], \n",
    "                                 f['last_modified'], \n",
    "                                 f['id'], \n",
    "                                 f['name'], \n",
    "                                 f['state'], ) for f in current_server_orders])\n",
    "    progress_df.columns =['created_on', 'last_message', 'last_modified', 'id', 'name', 'state',]\n",
    "    progress_df.sort_values(by=['created_on'])\n",
    "    \n",
    "    return progress_df"
   ]
  },
  {
   "cell_type": "markdown",
   "metadata": {},
   "source": [
    "to use your own api keys and parameters, copy paste the `parameters.py.dist` file in the same folder and remove the `.dist` extention. You can then replace the string with your own keys. only the .dist will be pushed to the dist git rep. "
   ]
  },
  {
   "cell_type": "markdown",
   "metadata": {},
   "source": [
    "# 1. Search items\n",
    "### Get the samples dataframe\n",
    "\n",
    "From a geojson plots file, create a geo pandas dataframe to store the geometries and the id of each plot, it'll be used as a geometry filter and to calculate the % of area covered by the items."
   ]
  },
  {
   "cell_type": "code",
   "execution_count": 5,
   "metadata": {},
   "outputs": [],
   "source": [
    "samples_gdf = pd.read_pickle('shp/samples.p')"
   ]
  },
  {
   "cell_type": "code",
   "execution_count": 6,
   "metadata": {},
   "outputs": [],
   "source": [
    "#create a geoDataFrame object from a .txt file \n",
    "if os.path.isfile(FILENAME):\n",
    "    df = pd.read_csv(FILENAME, sep=' ')\n",
    "    \n",
    "    #filter only the `nb_rows` first rows\n",
    "    nb_rows = 1000#len(df)\n",
    "    filter_df  = df[df.index.isin(range(nb_rows))]\n",
    "    df = filter_df\n",
    "    \n",
    "    #create the geodataframe \n",
    "    pts = [Point(df.loc[i][FILE_LNG], df.loc[i][FILE_LAT]) for i in range(len(df))]\n",
    "    samples_gdf = gpd.GeoDataFrame(data={'geometry': pts}, index=df[FILE_ID], crs=\"EPSG:4326\")\n",
    "    samples_gdf.index.names = ['id']\n",
    "    samples_gdf = samples_gdf.to_crs('ESRI:54032')\n",
    "    samples_gdf['geometry'] = samples_gdf['geometry'].buffer(BUFFER_SIZE)\n",
    "    samples_gdf = samples_gdf.to_crs(\"EPSG:4326\")\n",
    "    samples_gdf['geometry'] = samples_gdf['geometry'].envelope"
   ]
  },
  {
   "cell_type": "code",
   "execution_count": 7,
   "metadata": {},
   "outputs": [],
   "source": [
    "samples_gdf = samples_gdf[400:500]"
   ]
  },
  {
   "cell_type": "code",
   "execution_count": 13,
   "metadata": {},
   "outputs": [],
   "source": [
    "samples_gdf = samples_gdf[:10]"
   ]
  },
  {
   "cell_type": "markdown",
   "metadata": {},
   "source": [
    "### Connect to client"
   ]
  },
  {
   "cell_type": "code",
   "execution_count": 8,
   "metadata": {},
   "outputs": [],
   "source": [
    "client = api.ClientV1(api_key=PLANET_API_KEY)"
   ]
  },
  {
   "cell_type": "markdown",
   "metadata": {},
   "source": [
    "### Define filters"
   ]
  },
  {
   "cell_type": "code",
   "execution_count": 9,
   "metadata": {},
   "outputs": [],
   "source": [
    "# define test data for the filter\n",
    "start_date = datetime.datetime(2009, 1, 1)\n",
    "stop_date = datetime.datetime(2020, 12, 31)\n",
    "cloud_cover_lte = 0.01\n",
    "minimum_covered_area = 90 # included"
   ]
  },
  {
   "cell_type": "markdown",
   "metadata": {},
   "source": [
    "### Define scores"
   ]
  },
  {
   "cell_type": "code",
   "execution_count": 10,
   "metadata": {},
   "outputs": [],
   "source": [
    "# item_type_score\n",
    "item_type_score = {\n",
    "    'PSScene4Band':8, \n",
    "    'PSScene3Band':8, \n",
    "    'PSOrthoTile':10,\n",
    "    'REOrthoTile':0,\n",
    "    'SkySatScene':0,\n",
    "}\n",
    "\n",
    "# season score\n",
    "months_score = {\n",
    "    1: 5, 7:0,\n",
    "    2: 5, 8:0,\n",
    "    3: 5, 9:0,\n",
    "    4: 0, 10:7,\n",
    "    5: 0, 11:10,\n",
    "    6: 0, 12:10,\n",
    "}\n",
    "\n",
    "# cloud_score\n",
    "\n",
    "def cloud_score(cloud_cover):\n",
    "    \"\"\" Define the cloud cover threshold and score\n",
    "    \n",
    "    1 = 1%\n",
    "    \n",
    "    \"\"\"\n",
    "    cloud_cover = cloud_cover*100\n",
    "    \n",
    "    if cloud_cover == 0:\n",
    "        return 10\n",
    "    elif cloud_cover <= 1 and cloud_cover > 0:\n",
    "        return 5\n",
    "    else:\n",
    "        return 0\n",
    "    \n",
    "# Covered area\n",
    "\n",
    "def cover_score(covered_area):\n",
    "    \"\"\"Define the cover area threshold and score\n",
    "    \"\"\"\n",
    "    covered_area = covered_area*100\n",
    "    \n",
    "    if covered_area >= 99:\n",
    "        return 10\n",
    "    \n",
    "    elif covered_area >= 95:\n",
    "        return 5\n",
    "    \n",
    "    else:\n",
    "        return 0\n",
    "    \n"
   ]
  },
  {
   "cell_type": "markdown",
   "metadata": {},
   "source": [
    "## OPTION: 1.1 Get items for individual samples ((optional))\n",
    "### Get items and metadata using filters"
   ]
  },
  {
   "cell_type": "code",
   "execution_count": null,
   "metadata": {},
   "outputs": [],
   "source": [
    "# Define AOI, by selecting the first row of the samples geodataframe\n",
    "# For this example, we are going to use the first sample\n",
    "row_number = 2\n",
    "aoi_geometry = json.loads(dumps(samples_gdf.iloc[row_number].geometry))\n",
    "sample_id = samples_gdf.iloc[row_number].name"
   ]
  },
  {
   "cell_type": "code",
   "execution_count": null,
   "metadata": {},
   "outputs": [],
   "source": [
    "%%time\n",
    "request = build_request(aoi_geometry, start_date, stop_date, cloud_cover_lte)\n",
    "items = get_items(sample_id, request, client)\n",
    "\n",
    "# Transform items into a pandas dataframe with useful columns\n",
    "metadata_df = get_dataframe(items)"
   ]
  },
  {
   "cell_type": "markdown",
   "metadata": {},
   "source": [
    "### Calculate percentage of covered area\n",
    "\n",
    "Calculate the percentage of covered area from the sample area with the item footprint"
   ]
  },
  {
   "cell_type": "code",
   "execution_count": null,
   "metadata": {},
   "outputs": [],
   "source": [
    "# Mutate metadata_df and add the percentage of cover area\n",
    "add_cover_area(metadata_df, samples_gdf)"
   ]
  },
  {
   "cell_type": "code",
   "execution_count": null,
   "metadata": {},
   "outputs": [],
   "source": [
    "# Remove items that are under 90% of covered area\n",
    "metadata_df = metadata_df[metadata_df.cover_perc >= (minimum_covered_area/100)]"
   ]
  },
  {
   "cell_type": "markdown",
   "metadata": {},
   "source": [
    "### Score items\n"
   ]
  },
  {
   "cell_type": "code",
   "execution_count": null,
   "metadata": {},
   "outputs": [],
   "source": [
    "scored_items = score_items(metadata_df, item_type_score, months_score, cloud_score, cover_score)"
   ]
  },
  {
   "cell_type": "code",
   "execution_count": null,
   "metadata": {},
   "outputs": [],
   "source": [
    "selected_items = get_one_item_per_year(scored_items)"
   ]
  },
  {
   "cell_type": "markdown",
   "metadata": {},
   "source": [
    "### ((Optional)): Export thumbnails\n",
    "Create thumbnails from the selected items (dataframe) and store them into a structured folder"
   ]
  },
  {
   "cell_type": "code",
   "execution_count": null,
   "metadata": {},
   "outputs": [],
   "source": [
    "# save_thumb(selected_items)"
   ]
  },
  {
   "cell_type": "markdown",
   "metadata": {},
   "source": [
    "## OPTION 1.2 Get items for all plots and store into a big df\n",
    "### Loop over all plots\n",
    "Loop over all plots and get the items."
   ]
  },
  {
   "cell_type": "code",
   "execution_count": 45,
   "metadata": {},
   "outputs": [],
   "source": [
    "# Create a list of dataframes \n",
    "\n",
    "LOG_PATH = os.path.join(os.getcwd(), 'logs')\n",
    "Path(LOG_PATH).mkdir(parents=True, exist_ok=True)\n",
    "\n",
    "def run_multiprocess(index, row):    \n",
    "    aoi_geometry = json.loads(dumps(row.geometry))\n",
    "    sample_id = row.name\n",
    "    \n",
    "    now = datetime.now()\n",
    "    formated_now = now.strftime('%Y%m%d_%H_%M')\n",
    "    srch_log_file = os.path.join(LOG_PATH, f'search_logs_{formated_now}.txt')\n",
    "    \n",
    "    OUT_PIKL_PATH = os.path.join(os.getcwd(), 'searches', formated_now)\n",
    "    Path(OUT_PIKL_PATH).mkdir(parents=True, exist_ok=True)\n",
    "\n",
    "    \n",
    "    pickle_df_name = os.path.join(OUT_PIKL_PATH, str(sample_id)+'.p')\n",
    "\n",
    "    if not os.path.exists(pickle_df_name):\n",
    "        request = build_request(aoi_geometry, start_date, stop_date, cloud_cover_lte)\n",
    "\n",
    "        try:\n",
    "            print(f'Starting {sample_id}')\n",
    "            items = get_items(sample_id, request, client)\n",
    "            # Transform items into a pandas dataframe with useful columns\n",
    "            metadata_df = get_dataframe(items)\n",
    "            \n",
    "            # Mutate metadata_df and add the percentage of cover area\n",
    "            add_cover_area(metadata_df, samples_gdf)\n",
    "\n",
    "            # Remove items that are under the minimum_covered_area threshold\n",
    "            metadata_df = metadata_df[metadata_df.cover_perc >= (minimum_covered_area/100)]\n",
    "\n",
    "            # Create a score for each item\n",
    "            scored_items = score_items(metadata_df, item_type_score, months_score, cloud_score, cover_score)\n",
    "\n",
    "            # Filter scored_items and get only one per year\n",
    "            selected_items = get_one_item_per_year(scored_items)\n",
    "            \n",
    "            # Save into a pickled file\n",
    "            selected_items.to_pickle(pickle_df_name)\n",
    "            \n",
    "            print(f'{sample_id} pickled.')\n",
    "            \n",
    "        except Exception as e:\n",
    "            with open(srch_log_file, 'a') as lf:\n",
    "                \n",
    "                lf.write(f'Sample {sample_id}:{e}\\n')\n",
    "\n",
    "    else:\n",
    "        print(f'Search for {sample_id} already saved.')"
   ]
  },
  {
   "cell_type": "code",
   "execution_count": 47,
   "metadata": {},
   "outputs": [
    {
     "name": "stdout",
     "output_type": "stream",
     "text": [
      "Starting 594399Starting 599669Starting 604840Starting 603303Starting 605677\n",
      "Starting 604844Starting 606868\n",
      "Starting 605725\n",
      "\n",
      "Starting 602611\n",
      "\n",
      "Starting 606917\n",
      "\n",
      "\n",
      "\n",
      "594399 pickled.\n",
      "605677 pickled.\n",
      "603303 pickled.\n",
      "604840 pickled.\n",
      "605725 pickled.\n",
      "606917 pickled.\n",
      "604844 pickled.\n",
      "602611 pickled.\n",
      "599669 pickled.\n",
      "606868 pickled.\n",
      "CPU times: user 76 ms, sys: 47.5 ms, total: 124 ms\n",
      "Wall time: 40.1 s\n"
     ]
    }
   ],
   "source": [
    "%%time\n",
    "if __name__ == '__main__':\n",
    "    pool = multiprocessing.Pool(10)\n",
    "    for index, row in samples_gdf.iterrows():\n",
    "        pool.apply_async(run_multiprocess, args=(index, row,))\n",
    "    pool.close()\n",
    "    pool.join()"
   ]
  },
  {
   "cell_type": "markdown",
   "metadata": {},
   "source": [
    "### Read all the pickled files, merge and store them in a big df"
   ]
  },
  {
   "cell_type": "code",
   "execution_count": 48,
   "metadata": {},
   "outputs": [],
   "source": [
    "pkl_list = glob.glob(os.path.join(OUT_PIKL_PATH, '*p'))\n",
    "all_df = pd.concat([pd.read_pickle(pkl) for pkl in pkl_list])"
   ]
  },
  {
   "cell_type": "code",
   "execution_count": 49,
   "metadata": {},
   "outputs": [
    {
     "data": {
      "text/plain": [
       "1098"
      ]
     },
     "execution_count": 49,
     "metadata": {},
     "output_type": "execute_result"
    }
   ],
   "source": [
    "all_df"
   ]
  },
  {
   "cell_type": "markdown",
   "metadata": {},
   "source": [
    "# 2. Order assets\n",
    "### Create json request"
   ]
  },
  {
   "cell_type": "code",
   "execution_count": 50,
   "metadata": {},
   "outputs": [],
   "source": [
    "products_bundles = {\n",
    "\n",
    "    # Is not possible to ask for analytic_dn in PSScene3Band, so the next option is visual\n",
    "    # for more info go to https://developers.planet.com/docs/orders/product-bundles-reference/\n",
    "    'PSScene3Band': \"analytic,visual\",\n",
    "    'PSScene4Band': \"analytic_udm2,analytic_sr,analytic\",\n",
    "    'PSOrthoTile': \"analytic_5b_udm2,analytic_5b,analytic_udm2,analytic\",\n",
    "    'REOrthoTile': \"analytic\",\n",
    "}"
   ]
  },
  {
   "cell_type": "code",
   "execution_count": 51,
   "metadata": {},
   "outputs": [],
   "source": [
    "# To create the order we need a dataframe with filtered items,\n",
    "# and a samples_gdf with sample_id and geometry to clip each item.\n",
    "\n",
    "# Build an order for each sample and store in a orders_list\n",
    "orders = []\n",
    "samples_ids = list(all_df.sample_id.unique())\n",
    "for idx, row in samples_gdf.iterrows():\n",
    "    if idx in samples_ids:\n",
    "        order = build_order_from_metadata(all_df, idx, row, products_bundles)\n",
    "        orders.append(order)"
   ]
  },
  {
   "cell_type": "markdown",
   "metadata": {},
   "source": [
    "### Request order\n",
    "<font color='red'>The following lines will start the order in the planet server, once the order is placed and running, there is no way to stop it.</font>\n",
    "\n",
    "NOTE: The following loop will skip the samples that have already been downloaded, however it's based on the existing_orders request, and we are not sure how long the requests will remain in the planet server."
   ]
  },
  {
   "cell_type": "code",
   "execution_count": 64,
   "metadata": {},
   "outputs": [
    {
     "name": "stdout",
     "output_type": "stream",
     "text": [
      "Skipping sample_594399: already requested.\n",
      "Skipping sample_599669: already requested.\n",
      "Skipping sample_604840: already requested.\n",
      "Skipping sample_606868: already requested.\n",
      "Skipping sample_604844: already requested.\n",
      "Skipping sample_605677: already requested.\n",
      "Skipping sample_603303: already requested.\n",
      "Skipping sample_606917: already requested.\n",
      "Skipping sample_605725: already requested.\n",
      "Skipping sample_602611: already requested.\n"
     ]
    }
   ],
   "source": [
    "# Request the existing orders and store their sample_id (name)\n",
    "current_server_orders = get_existing_orders(client)\n",
    "ordered_sample_names = [order['name'] for order in current_server_orders]\n",
    "now = datetime.now()\n",
    "formated_now = now.strftime('%Y%m%d_%H_%M')\n",
    "ordr_log_file = os.path.join(LOG_PATH, f'order_logs_{formated_now}.txt')\n",
    "\n",
    "orders_info = []\n",
    "for new_order in orders:\n",
    "\n",
    "    # Make sure that the sample is not already downloaded\n",
    "    sample_name = new_order['name']\n",
    "    if sample_name not in ordered_sample_names:\n",
    "        \n",
    "        try:\n",
    "            # The following line will create the order in the server\n",
    "            @backoff.on_exception(backoff.expo,planet.api.exceptions.OverQuota, max_time=360)\n",
    "            def place_order():\n",
    "                return client.create_order(new_order).get()\n",
    "            \n",
    "            order_info = place_order()\n",
    "            orders_info.append(order_info)\n",
    "            \n",
    "            order_id = order_info['id']\n",
    "            sample_name = order_info['name']\n",
    "            \n",
    "            print(f'order {order_id} with {sample_name} has been placed.')\n",
    "            \n",
    "        except Exception as e:\n",
    "            with open(ordr_log_file, 'a') as lf:\n",
    "                \n",
    "                lf.write(f'Sample {sample_name}:{e}\\n')\n",
    "    else:\n",
    "        print(f'Skipping {sample_name}: already requested.')"
   ]
  },
  {
   "cell_type": "markdown",
   "metadata": {},
   "source": [
    "## Get status\n",
    "The following get_order_status line has to be re-runned everytime we want to know the orders statusw"
   ]
  },
  {
   "cell_type": "code",
   "execution_count": 84,
   "metadata": {},
   "outputs": [
    {
     "data": {
      "text/html": [
       "<div><table id=\"2684376f-f7cd-40ec-a59b-30f391ab06f9\" class=\"display\"><thead>\n",
       "    <tr style=\"text-align: right;\">\n",
       "      \n",
       "      <th>created_on</th>\n",
       "      <th>last_message</th>\n",
       "      <th>last_modified</th>\n",
       "      <th>id</th>\n",
       "      <th>name</th>\n",
       "      <th>state</th>\n",
       "    </tr>\n",
       "  </thead></table>\n",
       "<script type=\"text/javascript\">\n",
       "require([\"datatables\"], function (datatables) {\n",
       "    $(document).ready(function () {        \n",
       "        var dt_args = {\"columnDefs\": [{\"width\": \"70px\", \"targets\": \"_all\"}], \"data\": [[\"2020-09-11T21:58:11.242Z\", \"Waiting for per-bundle operations to complete. Running 1, Succeeded 9, Failed: 0\", \"2020-09-11T22:17:27.431Z\", \"7ebcc89a-297d-48b6-9751-f1357805f9ef\", \"sample_606868\", \"running\"], [\"2020-09-11T21:58:09.558Z\", \"Waiting for per-bundle operations to complete. Running 1, Succeeded 11, Failed: 0\", \"2020-09-11T22:17:27.431Z\", \"891cfea5-aee7-4a9b-b2b8-3a24dfa06e44\", \"sample_604840\", \"running\"], [\"2020-09-11T21:58:07.728Z\", \"Manifest delivery completed\", \"2020-09-11T22:17:30.814Z\", \"8e246275-42a8-4942-b9c4-ce052e319cf6\", \"sample_599669\", \"success\"], [\"2020-09-11T21:58:05.953Z\", \"Manifest delivery completed\", \"2020-09-11T22:14:51.892Z\", \"54ab2f5e-5a39-49b0-ac01-e3fb0a3830c2\", \"sample_594399\", \"success\"], [\"2020-09-11T21:57:58.363Z\", \"Waiting for per-bundle operations to complete. Running 1, Succeeded 10, Failed: 0\", \"2020-09-11T22:17:23.541Z\", \"e9bf4497-83f8-4611-8639-d813156851f1\", \"sample_602611\", \"running\"], [\"2020-09-11T21:57:56.534Z\", \"Manifest delivery completed\", \"2020-09-11T22:15:39.701Z\", \"6af2a456-2e85-4152-b7dd-14407c870b26\", \"sample_605725\", \"success\"], [\"2020-09-11T21:57:54.672Z\", \"Waiting for delivery to complete (Running:1 Succeeded:0 Failed:0)\", \"2020-09-11T22:17:10.659Z\", \"01e9018e-c2ab-4fdd-a98f-c5af41d520b5\", \"sample_606917\", \"running\"], [\"2020-09-11T21:57:52.603Z\", \"Waiting for per-bundle operations to complete. Running 1, Succeeded 11, Failed: 0\", \"2020-09-11T22:17:26.085Z\", \"627fc46d-8135-4828-80c4-5679ed89104f\", \"sample_603303\", \"running\"], [\"2020-09-11T21:57:50.616Z\", \"Manifest delivery completed\", \"2020-09-11T22:17:01.832Z\", \"0324e4ad-b546-4a5d-afb6-1c60205e092f\", \"sample_605677\", \"success\"], [\"2020-09-11T21:57:48.483Z\", \"Waiting for Zip to complete\", \"2020-09-11T22:16:54.443Z\", \"f4131f3b-b3c1-4797-a12c-2e022d8180f9\", \"sample_604844\", \"running\"], [\"2020-09-11T21:57:46.636Z\", \"Waiting for per-bundle operations to complete. Running 1, Succeeded 9, Failed: 0\", \"2020-09-11T22:17:27.431Z\", \"2c4d9262-32a1-4f7a-99f3-41f1fb76ea1d\", \"sample_606868\", \"running\"], [\"2020-09-11T21:57:44.790Z\", \"Waiting for per-bundle operations to complete. Running 1, Succeeded 11, Failed: 0\", \"2020-09-11T22:17:26.032Z\", \"7ae95739-243b-4b51-b4cd-a78d72bfaa59\", \"sample_604840\", \"running\"], [\"2020-09-11T21:57:42.760Z\", \"Manifest delivery completed\", \"2020-09-11T22:16:37.799Z\", \"07fb7da7-925a-4c39-83ff-d0fd538e8d27\", \"sample_599669\", \"success\"], [\"2020-09-11T21:57:40.953Z\", \"Manifest delivery completed\", \"2020-09-11T22:16:52.344Z\", \"7913262c-154c-46a6-af01-296a14463c6f\", \"sample_594399\", \"success\"], [\"2020-09-10T06:51:42.551Z\", \"Manifest delivery completed\", \"2020-09-10T07:06:21.269Z\", \"4117ad83-e2c9-4c2b-a8dc-d4dac0ea9706\", \"sample_8704_21284\", \"success\"], [\"2020-09-10T06:49:39.171Z\", \"Manifest delivery completed\", \"2020-09-10T07:00:06.875Z\", \"d0129b8e-f6d2-4eee-929d-342c15b3fe80\", \"sample_8698_21346\", \"success\"], [\"2020-09-10T06:49:35.214Z\", \"Manifest delivery completed\", \"2020-09-10T06:59:37.343Z\", \"1be5a671-4f7a-4f83-8d19-2b25afb8791a\", \"sample_8726_21476\", \"success\"], [\"2020-09-10T06:49:31.435Z\", \"Manifest delivery completed\", \"2020-09-10T07:06:54.816Z\", \"c02ec200-6657-4ee4-a221-c18e70a6c0b1\", \"sample_8704_21284\", \"success\"], [\"2020-09-10T06:49:27.262Z\", \"Manifest delivery completed\", \"2020-09-10T07:00:17.897Z\", \"e1916578-6831-48f6-abcc-2b2b14e1e1ea\", \"sample_8650_21398\", \"success\"], [\"2020-09-10T06:49:23.411Z\", \"Manifest delivery completed\", \"2020-09-10T07:11:23.361Z\", \"c320c666-cd36-4c09-b433-abc5543ed275\", \"sample_8848_21404\", \"success\"], [\"2020-09-09T14:41:27.287Z\", \"Manifest delivery completed\", \"2020-09-09T14:45:25.328Z\", \"3f930fd0-c330-405d-87e7-ceb99fcdd0ac\", \"sample_8698_21346\", \"success\"], [\"2020-09-09T14:41:23.034Z\", \"Manifest delivery completed\", \"2020-09-09T14:46:49.199Z\", \"ffaf7f43-4771-4612-b47b-737a8bad3af4\", \"sample_8698_21346\", \"success\"], [\"2020-09-09T14:41:19.138Z\", \"Manifest delivery completed\", \"2020-09-09T14:46:33.664Z\", \"88298c0a-aa38-459e-b26d-c5c79924d083\", \"sample_8698_21346\", \"success\"], [\"2020-09-09T14:41:15.336Z\", \"Manifest delivery completed\", \"2020-09-09T14:45:27.335Z\", \"cce00bb7-4547-4368-92f7-8ea8ad9de27c\", \"sample_8698_21346\", \"success\"], [\"2020-09-09T14:41:11.294Z\", \"Manifest delivery completed\", \"2020-09-09T14:46:24.194Z\", \"e6026bd1-f7f6-4454-a8c1-0f53f0548e67\", \"sample_8698_21346\", \"success\"], [\"2020-09-09T14:31:11.545Z\", \"Manifest delivery completed\", \"2020-09-09T14:45:23.912Z\", \"eee73b64-adbd-4c6a-95f9-811457d824ec\", \"sample_8698_21346\", \"success\"], [\"2020-09-09T14:21:34.502Z\", \"Manifest delivery completed\", \"2020-09-09T14:33:52.215Z\", \"068f38c8-8148-41b2-9315-0a989ef2e9de\", \"sample_8726_21476\", \"success\"], [\"2020-09-08T18:07:44.767Z\", \"Manifest delivery completed\", \"2020-09-08T18:28:48.922Z\", \"4e24046e-11b0-40a7-b07f-d0e57237b61c\", \"sample_8650_21398\", \"success\"], [\"2020-09-07T20:12:19.373Z\", \"Manifest delivery completed\", \"2020-09-07T20:19:26.330Z\", \"d6f792be-6c30-424a-b3c0-d25fe5b238fc\", \"sample_8848_21404\", \"success\"], [\"2020-09-07T19:10:36.861Z\", \"Manifest delivery completed\", \"2020-09-07T19:38:56.766Z\", \"1aa169a4-bae7-4c49-8600-8cadd77699ec\", \"sample_8848_21404\", \"success\"], [\"2020-09-07T18:57:32.714Z\", \"Manifest delivery completed\", \"2020-09-07T19:05:49.347Z\", \"df06c908-2df1-4de5-aa34-ae21b7c29daa\", \"test_order\", \"success\"], [\"2020-09-03T20:01:25.586Z\", \"Manifest delivery completed\", \"2020-09-03T20:08:12.030Z\", \"d128c124-0496-4551-96af-51b5e1f2b5d9\", \"tutorial_order\", \"success\"], [\"2020-08-27T13:04:38.686Z\", \"Manifest delivery completed\", \"2020-08-27T13:17:01.827Z\", \"7ed0d350-414e-414e-8039-c54ec41ef55b\", \"ghana_test1_PSScene4Band\", \"success\"]]};\n",
       "        dt_args = eval_functions(dt_args);\n",
       "        table = $('#2684376f-f7cd-40ec-a59b-30f391ab06f9').DataTable(dt_args);\n",
       "    });\n",
       "})\n",
       "</script>\n",
       "</div>\n"
      ],
      "text/plain": [
       "                  created_on  \\\n",
       "0   2020-09-11T21:58:11.242Z   \n",
       "1   2020-09-11T21:58:09.558Z   \n",
       "2   2020-09-11T21:58:07.728Z   \n",
       "3   2020-09-11T21:58:05.953Z   \n",
       "4   2020-09-11T21:57:58.363Z   \n",
       "5   2020-09-11T21:57:56.534Z   \n",
       "6   2020-09-11T21:57:54.672Z   \n",
       "7   2020-09-11T21:57:52.603Z   \n",
       "8   2020-09-11T21:57:50.616Z   \n",
       "9   2020-09-11T21:57:48.483Z   \n",
       "10  2020-09-11T21:57:46.636Z   \n",
       "11  2020-09-11T21:57:44.790Z   \n",
       "12  2020-09-11T21:57:42.760Z   \n",
       "13  2020-09-11T21:57:40.953Z   \n",
       "14  2020-09-10T06:51:42.551Z   \n",
       "15  2020-09-10T06:49:39.171Z   \n",
       "16  2020-09-10T06:49:35.214Z   \n",
       "17  2020-09-10T06:49:31.435Z   \n",
       "18  2020-09-10T06:49:27.262Z   \n",
       "19  2020-09-10T06:49:23.411Z   \n",
       "20  2020-09-09T14:41:27.287Z   \n",
       "21  2020-09-09T14:41:23.034Z   \n",
       "22  2020-09-09T14:41:19.138Z   \n",
       "23  2020-09-09T14:41:15.336Z   \n",
       "24  2020-09-09T14:41:11.294Z   \n",
       "25  2020-09-09T14:31:11.545Z   \n",
       "26  2020-09-09T14:21:34.502Z   \n",
       "27  2020-09-08T18:07:44.767Z   \n",
       "28  2020-09-07T20:12:19.373Z   \n",
       "29  2020-09-07T19:10:36.861Z   \n",
       "30  2020-09-07T18:57:32.714Z   \n",
       "31  2020-09-03T20:01:25.586Z   \n",
       "32  2020-08-27T13:04:38.686Z   \n",
       "\n",
       "                                         last_message  \\\n",
       "0   Waiting for per-bundle operations to complete....   \n",
       "1   Waiting for per-bundle operations to complete....   \n",
       "2                         Manifest delivery completed   \n",
       "3                         Manifest delivery completed   \n",
       "4   Waiting for per-bundle operations to complete....   \n",
       "5                         Manifest delivery completed   \n",
       "6   Waiting for delivery to complete (Running:1 Su...   \n",
       "7   Waiting for per-bundle operations to complete....   \n",
       "8                         Manifest delivery completed   \n",
       "9                         Waiting for Zip to complete   \n",
       "10  Waiting for per-bundle operations to complete....   \n",
       "11  Waiting for per-bundle operations to complete....   \n",
       "12                        Manifest delivery completed   \n",
       "13                        Manifest delivery completed   \n",
       "14                        Manifest delivery completed   \n",
       "15                        Manifest delivery completed   \n",
       "16                        Manifest delivery completed   \n",
       "17                        Manifest delivery completed   \n",
       "18                        Manifest delivery completed   \n",
       "19                        Manifest delivery completed   \n",
       "20                        Manifest delivery completed   \n",
       "21                        Manifest delivery completed   \n",
       "22                        Manifest delivery completed   \n",
       "23                        Manifest delivery completed   \n",
       "24                        Manifest delivery completed   \n",
       "25                        Manifest delivery completed   \n",
       "26                        Manifest delivery completed   \n",
       "27                        Manifest delivery completed   \n",
       "28                        Manifest delivery completed   \n",
       "29                        Manifest delivery completed   \n",
       "30                        Manifest delivery completed   \n",
       "31                        Manifest delivery completed   \n",
       "32                        Manifest delivery completed   \n",
       "\n",
       "               last_modified                                    id  \\\n",
       "0   2020-09-11T22:17:27.431Z  7ebcc89a-297d-48b6-9751-f1357805f9ef   \n",
       "1   2020-09-11T22:17:27.431Z  891cfea5-aee7-4a9b-b2b8-3a24dfa06e44   \n",
       "2   2020-09-11T22:17:30.814Z  8e246275-42a8-4942-b9c4-ce052e319cf6   \n",
       "3   2020-09-11T22:14:51.892Z  54ab2f5e-5a39-49b0-ac01-e3fb0a3830c2   \n",
       "4   2020-09-11T22:17:23.541Z  e9bf4497-83f8-4611-8639-d813156851f1   \n",
       "5   2020-09-11T22:15:39.701Z  6af2a456-2e85-4152-b7dd-14407c870b26   \n",
       "6   2020-09-11T22:17:10.659Z  01e9018e-c2ab-4fdd-a98f-c5af41d520b5   \n",
       "7   2020-09-11T22:17:26.085Z  627fc46d-8135-4828-80c4-5679ed89104f   \n",
       "8   2020-09-11T22:17:01.832Z  0324e4ad-b546-4a5d-afb6-1c60205e092f   \n",
       "9   2020-09-11T22:16:54.443Z  f4131f3b-b3c1-4797-a12c-2e022d8180f9   \n",
       "10  2020-09-11T22:17:27.431Z  2c4d9262-32a1-4f7a-99f3-41f1fb76ea1d   \n",
       "11  2020-09-11T22:17:26.032Z  7ae95739-243b-4b51-b4cd-a78d72bfaa59   \n",
       "12  2020-09-11T22:16:37.799Z  07fb7da7-925a-4c39-83ff-d0fd538e8d27   \n",
       "13  2020-09-11T22:16:52.344Z  7913262c-154c-46a6-af01-296a14463c6f   \n",
       "14  2020-09-10T07:06:21.269Z  4117ad83-e2c9-4c2b-a8dc-d4dac0ea9706   \n",
       "15  2020-09-10T07:00:06.875Z  d0129b8e-f6d2-4eee-929d-342c15b3fe80   \n",
       "16  2020-09-10T06:59:37.343Z  1be5a671-4f7a-4f83-8d19-2b25afb8791a   \n",
       "17  2020-09-10T07:06:54.816Z  c02ec200-6657-4ee4-a221-c18e70a6c0b1   \n",
       "18  2020-09-10T07:00:17.897Z  e1916578-6831-48f6-abcc-2b2b14e1e1ea   \n",
       "19  2020-09-10T07:11:23.361Z  c320c666-cd36-4c09-b433-abc5543ed275   \n",
       "20  2020-09-09T14:45:25.328Z  3f930fd0-c330-405d-87e7-ceb99fcdd0ac   \n",
       "21  2020-09-09T14:46:49.199Z  ffaf7f43-4771-4612-b47b-737a8bad3af4   \n",
       "22  2020-09-09T14:46:33.664Z  88298c0a-aa38-459e-b26d-c5c79924d083   \n",
       "23  2020-09-09T14:45:27.335Z  cce00bb7-4547-4368-92f7-8ea8ad9de27c   \n",
       "24  2020-09-09T14:46:24.194Z  e6026bd1-f7f6-4454-a8c1-0f53f0548e67   \n",
       "25  2020-09-09T14:45:23.912Z  eee73b64-adbd-4c6a-95f9-811457d824ec   \n",
       "26  2020-09-09T14:33:52.215Z  068f38c8-8148-41b2-9315-0a989ef2e9de   \n",
       "27  2020-09-08T18:28:48.922Z  4e24046e-11b0-40a7-b07f-d0e57237b61c   \n",
       "28  2020-09-07T20:19:26.330Z  d6f792be-6c30-424a-b3c0-d25fe5b238fc   \n",
       "29  2020-09-07T19:38:56.766Z  1aa169a4-bae7-4c49-8600-8cadd77699ec   \n",
       "30  2020-09-07T19:05:49.347Z  df06c908-2df1-4de5-aa34-ae21b7c29daa   \n",
       "31  2020-09-03T20:08:12.030Z  d128c124-0496-4551-96af-51b5e1f2b5d9   \n",
       "32  2020-08-27T13:17:01.827Z  7ed0d350-414e-414e-8039-c54ec41ef55b   \n",
       "\n",
       "                        name    state  \n",
       "0              sample_606868  running  \n",
       "1              sample_604840  running  \n",
       "2              sample_599669  success  \n",
       "3              sample_594399  success  \n",
       "4              sample_602611  running  \n",
       "5              sample_605725  success  \n",
       "6              sample_606917  running  \n",
       "7              sample_603303  running  \n",
       "8              sample_605677  success  \n",
       "9              sample_604844  running  \n",
       "10             sample_606868  running  \n",
       "11             sample_604840  running  \n",
       "12             sample_599669  success  \n",
       "13             sample_594399  success  \n",
       "14         sample_8704_21284  success  \n",
       "15         sample_8698_21346  success  \n",
       "16         sample_8726_21476  success  \n",
       "17         sample_8704_21284  success  \n",
       "18         sample_8650_21398  success  \n",
       "19         sample_8848_21404  success  \n",
       "20         sample_8698_21346  success  \n",
       "21         sample_8698_21346  success  \n",
       "22         sample_8698_21346  success  \n",
       "23         sample_8698_21346  success  \n",
       "24         sample_8698_21346  success  \n",
       "25         sample_8698_21346  success  \n",
       "26         sample_8726_21476  success  \n",
       "27         sample_8650_21398  success  \n",
       "28         sample_8848_21404  success  \n",
       "29         sample_8848_21404  success  \n",
       "30                test_order  success  \n",
       "31            tutorial_order  success  \n",
       "32  ghana_test1_PSScene4Band  success  "
      ]
     },
     "execution_count": 84,
     "metadata": {},
     "output_type": "execute_result"
    }
   ],
   "source": [
    "# Use the pages to limit the search, every page will display 20 orders.\n",
    "get_orders_status(client, pages=None).order_values()"
   ]
  },
  {
   "cell_type": "markdown",
   "metadata": {},
   "source": [
    "# 3. Download"
   ]
  },
  {
   "cell_type": "code",
   "execution_count": null,
   "metadata": {},
   "outputs": [],
   "source": [
    "df = pd.DataFrame({'$a':[1,2], '$b': [10,20]})"
   ]
  },
  {
   "cell_type": "code",
   "execution_count": null,
   "metadata": {},
   "outputs": [],
   "source": [
    "download_path = os.path.join(os.getcwd(),'downloads')"
   ]
  },
  {
   "cell_type": "code",
   "execution_count": null,
   "metadata": {},
   "outputs": [],
   "source": [
    "LOG_PATH = os.path.join(os.getcwd(), 'logs')\n",
    "Path(LOG_PATH).mkdir(parents=True, exist_ok=True)\n",
    "dw_log_file = os.path.join(LOG_PATH, 'download_logs.txt')"
   ]
  },
  {
   "cell_type": "code",
   "execution_count": null,
   "metadata": {
    "scrolled": false
   },
   "outputs": [],
   "source": [
    "# Define the dates in which the desired oreders were ordered.\n",
    "\n",
    "current_server_orders = get_existing_orders(client)\n",
    "\n",
    "start_date = datetime.date(2020,9,10)\n",
    "stop_date = datetime.date(2020,9,10)\n",
    "success_states = ['success', 'partial']\n",
    "\n",
    "for order in current_server_orders:\n",
    "    \n",
    "    created_on = pd.to_datetime(order['created_on']).date()\n",
    "    state = order['state']\n",
    "    \n",
    "    if state in success_states:\n",
    "\n",
    "        if created_on >= start_date and created_on <= stop_date:\n",
    "            # Create the download folder\n",
    "            download_order_path = os.path.join(download_path, order['name'])\n",
    "            Path(download_order_path).mkdir(parents=True, exist_ok=True)\n",
    "\n",
    "            # Check if folder is empty:\n",
    "            if not os.listdir(download_order_path) :\n",
    "                try:\n",
    "                    print(f'downloading {order[\"name\"]} ')\n",
    "                    callback = api.write_to_file(directory=f'{download_order_path}/', overwrite=True)\n",
    "\n",
    "                    @backoff.on_exception(backoff.expo,planet.api.exceptions.OverQuota,max_time=360)\n",
    "                    def download():\n",
    "                        client.download_order(order['id'], callback=callback)\n",
    "                    download()\n",
    "                    \n",
    "                except Exception as e:\n",
    "                    with open(dw_log_file, 'w') as lf:\n",
    "                        lf.write('\\n'.join(f'{sample_id}:{e}'))\n",
    "            else:\n",
    "                print(f'The folder {download_order_path} is not empty ')"
   ]
  }
 ],
 "metadata": {
  "kernelspec": {
   "display_name": "Python 3",
   "language": "python",
   "name": "python3"
  },
  "language_info": {
   "codemirror_mode": {
    "name": "ipython",
    "version": 3
   },
   "file_extension": ".py",
   "mimetype": "text/x-python",
   "name": "python",
   "nbconvert_exporter": "python",
   "pygments_lexer": "ipython3",
   "version": "3.6.9"
  }
 },
 "nbformat": 4,
 "nbformat_minor": 4
}
