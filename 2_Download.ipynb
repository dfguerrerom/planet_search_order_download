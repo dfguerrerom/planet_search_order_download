{
 "cells": [
  {
   "cell_type": "code",
   "execution_count": null,
   "metadata": {},
   "outputs": [],
   "source": [
    "from scripts.functions import *\n",
    "from parameters import *"
   ]
  },
  {
   "cell_type": "code",
   "execution_count": null,
   "metadata": {},
   "outputs": [],
   "source": [
    "def download_from_orders(current_orders, start_date, stop_date, order_name=None, order_id=None, folder_name=''):\n",
    "    \"\"\"Will download the images in the current_orders dataframe.\n",
    "    \n",
    "    Args:\n",
    "        current_orders: (pd.DataFrame) DataFrame containing the current server orders\n",
    "        start_date: (datetime.datetime) Filter orders which starts from the start_date\n",
    "        stop_date: (datetime.datetime) Filter orders before the stop_date\n",
    "        order_name: (str) (optional): Partial or complete order name, will be used to filter current_orders dataframe\n",
    "        order_id: (str) (optional): Partial or complete id_name, will be used to filter current_orders dataframe\n",
    "        folder_name: (str) (optional): Sub folder created in the downloads folders\n",
    "    \n",
    "    Return:\n",
    "        Download orders in the downloads/ folder.\n",
    "    \"\"\"\n",
    "\n",
    "    now = datetime.datetime.now()\n",
    "    formated_now = now.strftime('%Y%m%d_%H_%M')\n",
    "    dw_log_file = os.path.join(LOG_PATH, f'download_logs_{formated_now}.txt')\n",
    "    success_states = ['success', 'partial']\n",
    "    \n",
    "    if order_name:\n",
    "        current_orders = current_orders[current_orders.name.str.contains(order_name)]\n",
    "    \n",
    "    elif order_id:\n",
    "        current_orders = current_orders[current_orders.id.str.contains(order_id)]\n",
    "        \n",
    "    \n",
    "    for idx, row in current_orders.iterrows():\n",
    "\n",
    "        created_on = pd.to_datetime(row.created_on).date()\n",
    "        state = row.state\n",
    "        sample_name = row['name']\n",
    "        order_id = row.id\n",
    "        \n",
    "        if state in success_states:\n",
    "            \n",
    "            if created_on >= start_date and created_on <= stop_date:\n",
    "\n",
    "                download_order_path = os.path.join(DOWNLOAD_PATH, str(folder_name), str(sample_name))\n",
    "                Path(download_order_path).mkdir(parents=True, exist_ok=True)\n",
    "\n",
    "                # Check if there is a .zip file inside the folder\n",
    "                if not any(['.zip' in f for f in os.listdir(download_order_path)]):\n",
    "                    try:\n",
    "                        print(f'downloading {sample_name} ')\n",
    "                        callback = api.write_to_file(directory=f'{download_order_path}/', overwrite=True)\n",
    "\n",
    "                        @backoff.on_exception(backoff.expo,(planet.api.exceptions.OverQuota,\n",
    "                                                           planet.api.exceptions.TooManyRequests),max_time=360)\n",
    "                        def download():\n",
    "                            response = client.download_order(order_id, callback=callback)\n",
    "                            response[0].wait().response\n",
    "                            return response\n",
    "\n",
    "                        download()\n",
    "                        \n",
    "\n",
    "                    except Exception as e:\n",
    "                        print(f'There was an error with {sample_name}, please check download log file.')\n",
    "                        with open(dw_log_file, 'a') as lf:\n",
    "                            lf.write(f'Sample {sample_name}:{e}\\n')\n"
   ]
  },
  {
   "cell_type": "markdown",
   "metadata": {},
   "source": [
    "## Download from existing planet orders"
   ]
  },
  {
   "cell_type": "markdown",
   "metadata": {},
   "source": [
    "## Start the client\n",
    "To use your own api keys and parameters, copy paste the `parameters.py.dist` file in the same folder and remove the `.dist` extention. You can then replace the string with your own keys. only the .dist will be pushed to the dist git rep. "
   ]
  },
  {
   "cell_type": "code",
   "execution_count": null,
   "metadata": {},
   "outputs": [],
   "source": [
    "client = api.ClientV1(api_key=PLANET_API_KEY)"
   ]
  },
  {
   "cell_type": "markdown",
   "metadata": {},
   "source": [
    "# 1. Get all the current orders and store them in a dataframe\n",
    "This process could take some minutes, after created, you can filter the dataframe"
   ]
  },
  {
   "cell_type": "markdown",
   "metadata": {},
   "source": [
    "## Get status\n",
    "The following get_order_status line has to be re-ran everytime we want to know the orders statusw"
   ]
  },
  {
   "cell_type": "code",
   "execution_count": null,
   "metadata": {
    "scrolled": true
   },
   "outputs": [],
   "source": [
    "%%time\n",
    "# Use pages=None to query over all the server orders.\n",
    "current_orders = get_orders_status(client, pages=None).sort_values(by=['created_on'])\n",
    "current_orders"
   ]
  },
  {
   "cell_type": "markdown",
   "metadata": {},
   "source": [
    "### Start download process"
   ]
  },
  {
   "cell_type": "code",
   "execution_count": null,
   "metadata": {
    "scrolled": true
   },
   "outputs": [],
   "source": [
    "%%time\n",
    "# Select the dates in which you want to download the images\n",
    "start_date = datetime.date(2020,9,18)\n",
    "stop_date = datetime.date(2020,9,21)\n",
    "\n",
    "# Specify an order_name or order_id to filter the downloads.\n",
    "# If not order_name and not order_name, it will download all the orders\n",
    "# between the given dates, with the given dataframe.\n",
    "\n",
    "# You can use partial order_name and order_id\n",
    "# For example:\n",
    "#            order_name='2f2a7561-9bbd-'\n",
    "#            order_id='sample'\n",
    "\n",
    "\n",
    "x = download_from_orders(current_orders, \n",
    "                     start_date, \n",
    "                     stop_date, \n",
    "                     order_name=None, \n",
    "                     order_id=None, \n",
    "                     folder_name='YOUR_SUB_FOLDER'\n",
    "                    )"
   ]
  }
 ],
 "metadata": {
  "kernelspec": {
   "display_name": "Python 3",
   "language": "python",
   "name": "python3"
  },
  "language_info": {
   "codemirror_mode": {
    "name": "ipython",
    "version": 3
   },
   "file_extension": ".py",
   "mimetype": "text/x-python",
   "name": "python",
   "nbconvert_exporter": "python",
   "pygments_lexer": "ipython3",
   "version": "3.6.9"
  }
 },
 "nbformat": 4,
 "nbformat_minor": 4
}
